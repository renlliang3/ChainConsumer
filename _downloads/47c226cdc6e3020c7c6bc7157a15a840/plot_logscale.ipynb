{
  "cells": [
    {
      "cell_type": "code",
      "execution_count": null,
      "metadata": {
        "collapsed": false
      },
      "outputs": [],
      "source": [
        "%matplotlib inline"
      ]
    },
    {
      "cell_type": "markdown",
      "metadata": {},
      "source": [
        "\n# Logscale\n\n\nFor when linear is just not good enough.\n\nYou can set the `log_scale` property with a boolean, or specify a list of bools, or a list of parameter indexes,\nor a list of parameter names, or a dictionary from parameter names to boolean values. Most things work, just give\nit a crack.\n"
      ]
    },
    {
      "cell_type": "code",
      "execution_count": null,
      "metadata": {
        "collapsed": false
      },
      "outputs": [],
      "source": [
        "import numpy as np\nfrom chainconsumer import ChainConsumer\nfrom scipy.stats import lognorm\n\ndata = lognorm.rvs(0.95, loc=0, size=(100000, 2))\n\nc = ChainConsumer()\nc.add_chain(data, parameters=[\"$x_1$\", \"$x_2$\"])\n\nfig = c.plotter.plot(figsize=\"column\", log_scales=True)\nfig.set_size_inches(3 + fig.get_size_inches())  # Resize fig for doco. You don't need this."
      ]
    },
    {
      "cell_type": "markdown",
      "metadata": {},
      "source": [
        "It's not just for the main corner plot, you can do it anywhere.\n\n"
      ]
    },
    {
      "cell_type": "code",
      "execution_count": null,
      "metadata": {
        "collapsed": false
      },
      "outputs": [],
      "source": [
        "fig = c.plotter.plot_walks(log_scales={\"$x_1$\": False})  # Dict example\nfig.set_size_inches(3 + fig.get_size_inches())  # Resize fig for doco. You don't need this.\n\n\nfig = c.plotter.plot_distributions(log_scales=[True, False])  # list[bool] example\nfig.set_size_inches(3 + fig.get_size_inches())  # Resize fig for doco. You don't need this."
      ]
    }
  ],
  "metadata": {
    "kernelspec": {
      "display_name": "Python 3",
      "language": "python",
      "name": "python3"
    },
    "language_info": {
      "codemirror_mode": {
        "name": "ipython",
        "version": 3
      },
      "file_extension": ".py",
      "mimetype": "text/x-python",
      "name": "python",
      "nbconvert_exporter": "python",
      "pygments_lexer": "ipython3",
      "version": "3.7.7"
    }
  },
  "nbformat": 4,
  "nbformat_minor": 0
}
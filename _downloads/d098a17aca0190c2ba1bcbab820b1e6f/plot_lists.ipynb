{
  "cells": [
    {
      "cell_type": "code",
      "execution_count": null,
      "metadata": {
        "collapsed": false
      },
      "outputs": [],
      "source": [
        "%matplotlib inline"
      ]
    },
    {
      "cell_type": "markdown",
      "metadata": {},
      "source": [
        "\n# Using List Options\n\n\nUtilise all the list options in the configuration!\n\nThis is a general example to illustrate that most parameters\nthat you can pass to the configuration methods accept lists.\n"
      ]
    },
    {
      "cell_type": "code",
      "execution_count": null,
      "metadata": {
        "collapsed": false
      },
      "outputs": [],
      "source": [
        "import numpy as np\nfrom numpy.random import normal, multivariate_normal\nfrom chainconsumer import ChainConsumer\n\nnp.random.seed(2)\ncov = normal(size=(2, 2)) + np.identity(2)\nd1 = multivariate_normal(normal(size=2), np.dot(cov, cov.T), size=100000)\ncov = normal(size=(2, 2)) + np.identity(2)\nd2 = multivariate_normal(normal(size=2), np.dot(cov, cov.T), size=100000)\ncov = normal(size=(2, 2)) + np.identity(2)\nd3 = multivariate_normal(normal(size=2), np.dot(cov, cov.T), size=1000000)\n\nc = ChainConsumer()\nc.add_chain(d1, parameters=[\"$x$\", \"$y$\"])\nc.add_chain(d2)\nc.add_chain(d3)\n\nc.configure(linestyles=[\"-\", \"--\", \"-\"], linewidths=[1.0, 3.0, 1.0],\n            bins=[3.0, 1.0, 1.0], colors=[\"#1E88E5\", \"#D32F2F\", \"#111111\"],\n            smooth=[0, 1, 2], shade=[True, True, False],\n            shade_alpha=[0.2, 0.1, 0.0], bar_shade=[True, False, False])\nfig = c.plotter.plot()\n\nfig.set_size_inches(3 + fig.get_size_inches())  # Resize fig for doco. You don't need this."
      ]
    },
    {
      "cell_type": "markdown",
      "metadata": {},
      "source": [
        "List options are useful for when the properties of the chains are\ninterconnected. But if you know the properties at the start,\nyou can define them when adding the chains. List options will not\noverride explicit chain configurations, so you can use the global\nconfigure to set options for all chains you haven't explicitly specified.\n\nNote here how even though we set 'all' chains to dotted lines of width 2, our third\nchain, with its explicit options, ignores that.\n\n"
      ]
    },
    {
      "cell_type": "code",
      "execution_count": null,
      "metadata": {
        "collapsed": false
      },
      "outputs": [],
      "source": [
        "c = ChainConsumer()\nc.add_chain(d1, parameters=[\"$x$\", \"$y$\"]).add_chain(d2).add_chain(d3, linestyle=\"-\", linewidth=5)\n\nc.configure(linestyles=\":\", linewidths=2)\nfig = c.plotter.plot()\n\nfig.set_size_inches(3 + fig.get_size_inches())  # Resize fig for doco. You don't need this."
      ]
    }
  ],
  "metadata": {
    "kernelspec": {
      "display_name": "Python 3",
      "language": "python",
      "name": "python3"
    },
    "language_info": {
      "codemirror_mode": {
        "name": "ipython",
        "version": 3
      },
      "file_extension": ".py",
      "mimetype": "text/x-python",
      "name": "python",
      "nbconvert_exporter": "python",
      "pygments_lexer": "ipython3",
      "version": "3.7.7"
    }
  },
  "nbformat": 4,
  "nbformat_minor": 0
}
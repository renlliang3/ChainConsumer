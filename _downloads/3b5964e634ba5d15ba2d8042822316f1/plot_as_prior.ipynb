{
  "cells": [
    {
      "cell_type": "code",
      "execution_count": null,
      "metadata": {
        "collapsed": false
      },
      "outputs": [],
      "source": [
        "%matplotlib inline"
      ]
    },
    {
      "cell_type": "markdown",
      "metadata": {},
      "source": [
        "\n# Plotting a prior\n\n\nIf you have 1D priors that you don't want to appear in the contour, thats possible too.\n"
      ]
    },
    {
      "cell_type": "code",
      "execution_count": null,
      "metadata": {
        "collapsed": false
      },
      "outputs": [],
      "source": [
        "import numpy as np\nfrom numpy.random import normal, random, multivariate_normal\nfrom chainconsumer import ChainConsumer\n\n\nif __name__ == \"__main__\":\n    np.random.seed(0)\n    cov = random(size=(2, 2)) + np.identity(2)\n    data = multivariate_normal(normal(size=2), np.dot(cov, cov.T), size=100000)\n\n    prior = normal(0, 1, size=100000)\n\n    fig = ChainConsumer()\\\n        .add_chain(data, parameters=[\"x\", \"y\"], name=\"Normal\")\\\n        .add_chain(prior, parameters=[\"y\"], name=\"Prior\", show_as_1d_prior=True)\\\n        .plotter.plot()\n\n    fig.set_size_inches(3 + fig.get_size_inches())  # Resize fig for doco. You don't need this."
      ]
    }
  ],
  "metadata": {
    "kernelspec": {
      "display_name": "Python 3",
      "language": "python",
      "name": "python3"
    },
    "language_info": {
      "codemirror_mode": {
        "name": "ipython",
        "version": 3
      },
      "file_extension": ".py",
      "mimetype": "text/x-python",
      "name": "python",
      "nbconvert_exporter": "python",
      "pygments_lexer": "ipython3",
      "version": "3.7.7"
    }
  },
  "nbformat": 4,
  "nbformat_minor": 0
}
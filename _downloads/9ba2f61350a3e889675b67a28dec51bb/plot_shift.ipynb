{
  "cells": [
    {
      "cell_type": "code",
      "execution_count": null,
      "metadata": {
        "collapsed": false
      },
      "outputs": [],
      "source": [
        "%matplotlib inline"
      ]
    },
    {
      "cell_type": "markdown",
      "metadata": {},
      "source": [
        "\n# Shifting Plots\n\n\nShift all your plots to the same location for blind uncertainty comparison.\n\n\nPlots will shift to the location you tell them to, in the same format as a truth dictionary.\nSo you can use truth dict for both! Takes a list or a dict as input for convenience.\n"
      ]
    },
    {
      "cell_type": "code",
      "execution_count": null,
      "metadata": {
        "collapsed": false
      },
      "outputs": [],
      "source": [
        "import numpy as np\nfrom numpy.random import multivariate_normal\nfrom chainconsumer import ChainConsumer\n\nnp.random.seed(0)\ndata1 = multivariate_normal([1, 0], [[3, 2], [2, 3]], size=300000)\ndata2 = multivariate_normal([0, 0.5], [[1, -0.7], [-0.7, 1]], size=300000)\ndata3 = multivariate_normal([2, -1], [[0.5, 0], [0, 0.5]], size=300000)"
      ]
    },
    {
      "cell_type": "markdown",
      "metadata": {},
      "source": [
        "And this is how easy it is to shift them. Note the different means for each dataset!\n\n"
      ]
    },
    {
      "cell_type": "code",
      "execution_count": null,
      "metadata": {
        "collapsed": false
      },
      "outputs": [],
      "source": [
        "truth = {\"$x$\": 1, \"$y$\": 0}\nc = ChainConsumer()\nc.add_chain(data1, parameters=[\"$x$\", \"$y$\"], name=\"Chain A\", shift_params=truth)\nc.add_chain(data2, name=\"Chain B\", shift_params=truth)\nc.add_chain(data3, name=\"Chain C\", shift_params=truth)\nfig = c.plotter.plot(truth=truth)\n\nfig.set_size_inches(2.5 + fig.get_size_inches())  # Resize fig for doco. You don't need this."
      ]
    }
  ],
  "metadata": {
    "kernelspec": {
      "display_name": "Python 3",
      "language": "python",
      "name": "python3"
    },
    "language_info": {
      "codemirror_mode": {
        "name": "ipython",
        "version": 3
      },
      "file_extension": ".py",
      "mimetype": "text/x-python",
      "name": "python",
      "nbconvert_exporter": "python",
      "pygments_lexer": "ipython3",
      "version": "3.7.7"
    }
  },
  "nbformat": 4,
  "nbformat_minor": 0
}
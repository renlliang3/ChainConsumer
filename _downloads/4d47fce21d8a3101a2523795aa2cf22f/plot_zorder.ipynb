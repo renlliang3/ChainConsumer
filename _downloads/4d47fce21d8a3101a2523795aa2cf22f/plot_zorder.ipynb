{
  "cells": [
    {
      "cell_type": "code",
      "execution_count": null,
      "metadata": {
        "collapsed": false
      },
      "outputs": [],
      "source": [
        "%matplotlib inline"
      ]
    },
    {
      "cell_type": "markdown",
      "metadata": {},
      "source": [
        "\n# Changing Z-Order\n\n\nForce matplotlib to show the plots we want.\n\nHere is a bad plot because it's hiding what we want.\n"
      ]
    },
    {
      "cell_type": "code",
      "execution_count": null,
      "metadata": {
        "collapsed": false
      },
      "outputs": [],
      "source": [
        "import numpy as np\nfrom numpy.random import multivariate_normal\nfrom chainconsumer import ChainConsumer\n\nnp.random.seed(0)\ndata1 = multivariate_normal([3, 5], [[1, 0], [0, 1]], size=100000)\ndata2 = multivariate_normal([3, 5], [[0.2, 0.1], [0.1, 0.3]], size=100000)\n\n\nc = ChainConsumer()\nc.add_chain(data1, parameters=[\"$x$\", \"$y$\"], color=\"k\", shade_alpha=0.7, zorder=1)\nc.add_chain(data2, color=\"o\", shade_alpha=0.7, zorder=2)\nc.configure(spacing=0)\nc.plotter.plot(display=True, figsize=2.0)"
      ]
    },
    {
      "cell_type": "markdown",
      "metadata": {},
      "source": [
        "Reversing the zorder\n\n"
      ]
    },
    {
      "cell_type": "code",
      "execution_count": null,
      "metadata": {
        "collapsed": false
      },
      "outputs": [],
      "source": [
        "c = ChainConsumer()\nc.add_chain(data1, parameters=[\"$x$\", \"$y$\"], color=\"k\", shade_alpha=0.7, zorder=2)\nc.add_chain(data2, color=\"o\", shade_alpha=0.7, zorder=1)\nc.configure(spacing=0)\nc.plotter.plot(display=True, figsize=2.0)"
      ]
    }
  ],
  "metadata": {
    "kernelspec": {
      "display_name": "Python 3",
      "language": "python",
      "name": "python3"
    },
    "language_info": {
      "codemirror_mode": {
        "name": "ipython",
        "version": 3
      },
      "file_extension": ".py",
      "mimetype": "text/x-python",
      "name": "python",
      "nbconvert_exporter": "python",
      "pygments_lexer": "ipython3",
      "version": "3.7.7"
    }
  },
  "nbformat": 4,
  "nbformat_minor": 0
}
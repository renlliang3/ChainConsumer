{
  "cells": [
    {
      "cell_type": "code",
      "execution_count": null,
      "metadata": {
        "collapsed": false
      },
      "outputs": [],
      "source": [
        "%matplotlib inline"
      ]
    },
    {
      "cell_type": "markdown",
      "metadata": {},
      "source": [
        "\n# Loading Data\n\n\nDemonstrates the different ways of loading data!\n\nIf you want examples of loading grid data, see the grid data example!\n"
      ]
    },
    {
      "cell_type": "markdown",
      "metadata": {},
      "source": [
        "You can specify truth values using a list (in the same order as the\ndeclared parameters).\n\n"
      ]
    },
    {
      "cell_type": "code",
      "execution_count": null,
      "metadata": {
        "collapsed": false
      },
      "outputs": [],
      "source": [
        "import numpy as np\nimport pandas as pd\nfrom numpy.random import multivariate_normal\nimport tempfile\nimport os\nfrom chainconsumer import ChainConsumer\n\n# Lets create some data here to set things up\nnp.random.seed(4)\ntruth = [0, 5]\ndata = multivariate_normal(truth, np.eye(2), size=100000)\nparameters = [\"$x$\", \"$y$\"]\ndf = pd.DataFrame(data, columns=parameters)\n\ndirectory = tempfile._get_default_tempdir()\nfilename = next(tempfile._get_candidate_names())\nfilename1 = directory + os.sep + filename + \".csv\"\nfilename2 = directory + os.sep + filename + \".npy\"\ndf.to_csv(filename1, index=False)\nnp.save(filename2, data)\n\n# Now the normal way of giving data is passing a # -*- coding: utf-8 -*-numpy array and parameter separately\nc = ChainConsumer().add_chain(data, parameters=parameters)\nfig = c.plotter.plot(truth=truth)\nfig.set_size_inches(3 + fig.get_size_inches())  # Resize fig for doco. You don't need this."
      ]
    },
    {
      "cell_type": "markdown",
      "metadata": {},
      "source": [
        "You don't actually need to have them as a 2D array, if you have each parameter independently, just list em up!\n\n"
      ]
    },
    {
      "cell_type": "code",
      "execution_count": null,
      "metadata": {
        "collapsed": false
      },
      "outputs": [],
      "source": [
        "x, y = data[:, 0], data[:, 1]\nc = ChainConsumer().add_chain([x, y], parameters=parameters)\nfig = c.plotter.plot(truth=truth)\nfig.set_size_inches(3 + fig.get_size_inches())  # Resize fig for doco. You don't need this."
      ]
    },
    {
      "cell_type": "markdown",
      "metadata": {},
      "source": [
        "Of course, a true master uses pandas everywhere\n\n"
      ]
    },
    {
      "cell_type": "code",
      "execution_count": null,
      "metadata": {
        "collapsed": false
      },
      "outputs": [],
      "source": [
        "c = ChainConsumer().add_chain(df)\nfig = c.plotter.plot(truth=truth)\nfig.set_size_inches(3 + fig.get_size_inches())  # Resize fig for doco. You don't need this."
      ]
    },
    {
      "cell_type": "markdown",
      "metadata": {},
      "source": [
        "And yet we can do the same thing using a dictionary:\n\n"
      ]
    },
    {
      "cell_type": "code",
      "execution_count": null,
      "metadata": {
        "collapsed": false
      },
      "outputs": [],
      "source": [
        "dictionary = {\"$x$\": data[:, 0], \"$y$\": data[:, 1]}\nc = ChainConsumer().add_chain(dictionary)\nfig = c.plotter.plot(truth=truth)\nfig.set_size_inches(3 + fig.get_size_inches())  # Resize fig for doco. You don't need this."
      ]
    },
    {
      "cell_type": "markdown",
      "metadata": {},
      "source": [
        "Or we can pass a filename in containing a text dump of the chain\n\n"
      ]
    },
    {
      "cell_type": "code",
      "execution_count": null,
      "metadata": {
        "collapsed": false
      },
      "outputs": [],
      "source": [
        "c = ChainConsumer().add_chain(filename1)\nfig = c.plotter.plot(truth=truth)\nfig.set_size_inches(3 + fig.get_size_inches())  # Resize fig for doco. You don't need this."
      ]
    },
    {
      "cell_type": "markdown",
      "metadata": {},
      "source": [
        "Or we can pass a filename for a file containing a binary numpy array\n\n"
      ]
    },
    {
      "cell_type": "code",
      "execution_count": null,
      "metadata": {
        "collapsed": false
      },
      "outputs": [],
      "source": [
        "c = ChainConsumer().add_chain(filename2, parameters=parameters)\nfig = c.plotter.plot(truth=truth)\nfig.set_size_inches(3 + fig.get_size_inches())  # Resize fig for doco. You don't need this."
      ]
    }
  ],
  "metadata": {
    "kernelspec": {
      "display_name": "Python 3",
      "language": "python",
      "name": "python3"
    },
    "language_info": {
      "codemirror_mode": {
        "name": "ipython",
        "version": 3
      },
      "file_extension": ".py",
      "mimetype": "text/x-python",
      "name": "python",
      "nbconvert_exporter": "python",
      "pygments_lexer": "ipython3",
      "version": "3.7.7"
    }
  },
  "nbformat": 4,
  "nbformat_minor": 0
}
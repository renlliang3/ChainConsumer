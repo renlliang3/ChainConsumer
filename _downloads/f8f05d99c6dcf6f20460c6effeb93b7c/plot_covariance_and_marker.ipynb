{
  "cells": [
    {
      "cell_type": "code",
      "execution_count": null,
      "metadata": {
        "collapsed": false
      },
      "outputs": [],
      "source": [
        "%matplotlib inline"
      ]
    },
    {
      "cell_type": "markdown",
      "metadata": {},
      "source": [
        "\n===============================\nCovariance, Fisher and Markers!\n===============================\n\nSometimes you want to compare your data to a Fisher matrix projection,\nor you just have some Gaussian you want also drawn.\n\nOr maybe its just a random point you want to put on the plot.\n\nIt's all easy to do.\n"
      ]
    },
    {
      "cell_type": "code",
      "execution_count": null,
      "metadata": {
        "collapsed": false
      },
      "outputs": [],
      "source": [
        "# -*- coding: utf-8 -*-\nfrom chainconsumer import ChainConsumer\n\nmean = [1, 5]\ncov = [[1, 1], [1, 3]]\nparameters = [\"a\", \"b\"]\n\nc = ChainConsumer()\nc.add_covariance(mean, cov, parameters=parameters, name=\"Cov\")\nc.add_marker(mean, parameters=parameters, name=\"Marker!\", marker_style=\"*\", marker_size=100, color=\"r\")\nc.configure(usetex=False, serif=False)\nfig = c.plotter.plot()\n\nfig.set_size_inches(3 + fig.get_size_inches())  # Resize fig for doco. You don't need this."
      ]
    }
  ],
  "metadata": {
    "kernelspec": {
      "display_name": "Python 3",
      "language": "python",
      "name": "python3"
    },
    "language_info": {
      "codemirror_mode": {
        "name": "ipython",
        "version": 3
      },
      "file_extension": ".py",
      "mimetype": "text/x-python",
      "name": "python",
      "nbconvert_exporter": "python",
      "pygments_lexer": "ipython3",
      "version": "3.7.7"
    }
  },
  "nbformat": 4,
  "nbformat_minor": 0
}
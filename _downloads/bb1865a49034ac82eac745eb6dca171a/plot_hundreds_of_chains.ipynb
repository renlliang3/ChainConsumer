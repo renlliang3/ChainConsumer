{
  "cells": [
    {
      "cell_type": "code",
      "execution_count": null,
      "metadata": {
        "collapsed": false
      },
      "outputs": [],
      "source": [
        "%matplotlib inline"
      ]
    },
    {
      "cell_type": "markdown",
      "metadata": {},
      "source": [
        "\n# Hundreds of Chains\n\n\nSometimes you have a lot of results and want to see the distribution of your results.\n\nWhen you have hundreds of chains, for example you've fit a model on 100 realsiations\nof different data to validate your model, it's impractical to show hundreds of contours.\n\nIn this case, it is often desired to show the distribution of maximum likelihood points, which\nhelps quantify whether your model is biased and the statistical uncertainty of your model.\n\nTo do this, you will need to pass in the posterior values. By default, if you pass in enough chains (more than 20),\nChainConsumer will automatically only plot maximum posterior points for chains which have posteriors. You can\nexplicitly control this by setting `plot_point` and/or `plot_contour` when adding a chain.\n\nImportantly, if you have a set of chains that represent the same thing, you can group them together\nby giving the chains the same name. It is also good practise to set the same colour for these chains.\n"
      ]
    },
    {
      "cell_type": "code",
      "execution_count": null,
      "metadata": {
        "collapsed": false
      },
      "outputs": [],
      "source": [
        "# sphinx_gallery_thumbnail_number = 2\n\nfrom scipy.stats import multivariate_normal\nimport numpy as np\nfrom chainconsumer import ChainConsumer\n\n\nc = ChainConsumer()\nfor i in range(1000):\n   # Generate some data centered at a random location with uncertainty\n   # equal to the scatter\n   mean = [3, 8]\n   cov = [[1.0, 0.5], [0.5, 2.0]]\n   mean_scattered = multivariate_normal.rvs(mean=mean, cov=cov)\n   data = multivariate_normal.rvs(mean=mean_scattered, cov=cov, size=1000)\n   posterior = multivariate_normal.logpdf(data, mean=mean_scattered, cov=cov)\n   c.add_chain(data, posterior=posterior, parameters=[\"$x$\", \"$y$\"], color='r', name=\"Simulation validation\")\nfig = c.plotter.plot()\nfig.set_size_inches(2.5 + fig.get_size_inches())  # Resize fig for doco. You don't need this."
      ]
    },
    {
      "cell_type": "markdown",
      "metadata": {},
      "source": [
        "We can add multiple datasets, and even mix in plotting contours and points\ntogether. In this example, we generate two sets of data to plot two clusters\nof maximum posterior points. Additionally we show the contours of a\n'representative' surface in amber.\n\n"
      ]
    },
    {
      "cell_type": "code",
      "execution_count": null,
      "metadata": {
        "collapsed": false
      },
      "outputs": [],
      "source": [
        "c = ChainConsumer()\np = [\"$x$\", \"$y$\", \"$z$\"]\nfor i in range(200):\n    # Generate some data centered at a random location with uncertainty\n    # equal to the scatter\n    mean = [3, 8, 4]\n    cov = [[1.0, 0.5, 0.5], [0.5, 2.0, 0.5], [0.5, 0.5, 1.4]]\n    mean_scattered = multivariate_normal.rvs(mean=mean, cov=cov)\n    data = multivariate_normal.rvs(mean=mean_scattered, cov=cov, size=5000)\n    data2 = data + multivariate_normal.rvs(mean=[8, -8, 7], cov=cov)\n    posterior = multivariate_normal.logpdf(data, mean=mean_scattered, cov=cov)\n    plot_contour = i == 0\n\n    c.add_chain(data, posterior=posterior, parameters=p, color='p', name=\"Sim1\")\n\n    c.add_chain(data2, posterior=posterior, parameters=p, color='k',\n                marker_style=\"+\", marker_size=20, name=\"Sim2\", marker_alpha=0.5)\n\nc.add_chain(data + np.array([4, -4, 3]), parameters=p, posterior=posterior, name=\"Contour Too\",\n            plot_contour=True, plot_point=True, marker_style=\"*\", marker_size=40,\n            color=\"a\", shade=True, shade_alpha=0.3, kde=True, linestyle=\"--\", bar_shade=True)\n\nc.configure(legend_artists=True)\n\nfig = c.plotter.plot()\nfig.set_size_inches(2.5 + fig.get_size_inches())  # Resize fig for doco. You don't need this."
      ]
    },
    {
      "cell_type": "markdown",
      "metadata": {},
      "source": [
        "If you've loaded a whole host of chains in, but only want to focus on one\nset, you can also pick out all chains with the same name when plotting.\n\n"
      ]
    },
    {
      "cell_type": "code",
      "execution_count": null,
      "metadata": {
        "collapsed": false
      },
      "outputs": [],
      "source": [
        "fig = c.plotter.plot(chains=\"Sim1\")\nfig.set_size_inches(2.5 + fig.get_size_inches())  # Resize fig for doco. You don't need this."
      ]
    },
    {
      "cell_type": "markdown",
      "metadata": {},
      "source": [
        "Finally, we should clarify what exactly the points mean! If you don't specify\nanything, by defaults the points represent the coordinates of the\nmaximum posterior value. However, in high dimensional surfaces, this maximum\nvalue across all dimensions can be different to the maximum posterior value\nof a 2D slice. If we want to plot, instead of the global maximum as defined\nby the posterior values, the maximum point of each 2D slice, we can specify\nto `configure` that `global_point=False`.\n\n"
      ]
    },
    {
      "cell_type": "code",
      "execution_count": null,
      "metadata": {
        "collapsed": false
      },
      "outputs": [],
      "source": [
        "c.configure(legend_artists=True, global_point=False)\nfig = c.plotter.plot(chains=\"Sim1\")\nfig.set_size_inches(2.5 + fig.get_size_inches())  # Resize fig for doco. You don't need this."
      ]
    },
    {
      "cell_type": "markdown",
      "metadata": {},
      "source": [
        "Note here that the histograms have disappeared. This is because the maximal\npoint changes for each pair of parameters, and so none of the points can\nbe used in a histogram. Whilst one could use the maximum point, marginalising\nacross all parameters, this can be misleading if only two parameters\nare requested to be plotted. As such, we do not report histograms for\nthe maximal 2D posterior points.\n\n"
      ]
    }
  ],
  "metadata": {
    "kernelspec": {
      "display_name": "Python 3",
      "language": "python",
      "name": "python3"
    },
    "language_info": {
      "codemirror_mode": {
        "name": "ipython",
        "version": 3
      },
      "file_extension": ".py",
      "mimetype": "text/x-python",
      "name": "python",
      "nbconvert_exporter": "python",
      "pygments_lexer": "ipython3",
      "version": "3.7.7"
    }
  },
  "nbformat": 4,
  "nbformat_minor": 0
}
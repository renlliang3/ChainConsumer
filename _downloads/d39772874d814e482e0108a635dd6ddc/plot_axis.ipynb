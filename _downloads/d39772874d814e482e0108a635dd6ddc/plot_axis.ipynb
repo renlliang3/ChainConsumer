{
  "cells": [
    {
      "cell_type": "code",
      "execution_count": null,
      "metadata": {
        "collapsed": false
      },
      "outputs": [],
      "source": [
        "%matplotlib inline"
      ]
    },
    {
      "cell_type": "markdown",
      "metadata": {},
      "source": [
        "\n# External axes\n\n\nTo put contours in external figures.\n\nTo help in inserting contours into other plots and figures, you can call the simplified\n`plot_contour` method and pass in an axis. Note that this is a minimal routine, and will not\ndo auto-extents, labels, ticks, truth values, etc. But it will make contours for you.\n"
      ]
    },
    {
      "cell_type": "code",
      "execution_count": null,
      "metadata": {
        "collapsed": false
      },
      "outputs": [],
      "source": [
        "from chainconsumer import ChainConsumer\nfrom scipy.stats import multivariate_normal as mv\nimport matplotlib.pyplot as plt\n\ndata = mv.rvs(mean=[5, 6], cov=[[1, 0.9], [0.9, 1]], size=10000)\n\nfig, axes = plt.subplots(nrows=2, figsize=(4, 6), sharex=True)\naxes[0].scatter(data[:, 0], data[:, 1], s=1, alpha=0.1)\n\nc = ChainConsumer()\nc.add_chain(data, parameters=[\"a\", \"b\"])\nc.plotter.plot_contour(axes[1], \"a\", \"b\")\n\nfor ax in axes:\n    ax.axvline(5)\n    ax.axhline(6)"
      ]
    }
  ],
  "metadata": {
    "kernelspec": {
      "display_name": "Python 3",
      "language": "python",
      "name": "python3"
    },
    "language_info": {
      "codemirror_mode": {
        "name": "ipython",
        "version": 3
      },
      "file_extension": ".py",
      "mimetype": "text/x-python",
      "name": "python",
      "nbconvert_exporter": "python",
      "pygments_lexer": "ipython3",
      "version": "3.7.7"
    }
  },
  "nbformat": 4,
  "nbformat_minor": 0
}